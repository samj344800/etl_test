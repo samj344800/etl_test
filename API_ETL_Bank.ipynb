{
 "cells": [
  {
   "cell_type": "markdown",
   "id": "a3ddd4e2",
   "metadata": {},
   "source": [
    "# API"
   ]
  },
  {
   "cell_type": "markdown",
   "id": "5f2fae34",
   "metadata": {},
   "source": [
    "## Imports"
   ]
  },
  {
   "cell_type": "code",
   "execution_count": 7,
   "id": "481bb2da",
   "metadata": {},
   "outputs": [],
   "source": [
    "import requests\n",
    "import pandas as pd\n",
    "from sqlalchemy import create_engine "
   ]
  },
  {
   "cell_type": "markdown",
   "id": "3fa0b563",
   "metadata": {},
   "source": [
    "## Partie 1 : Extract"
   ]
  },
  {
   "cell_type": "code",
   "execution_count": 8,
   "id": "eed1cd38",
   "metadata": {},
   "outputs": [],
   "source": [
    "def extract_rates():\n",
    "    #On extrait les informations de l'API avec la clé donnée\n",
    "    url = \"https://api.apilayer.com/exchangerates_data/latest?base=EUR&apikey=nJVuiVk2iIbNtdqdb1ohnpsseVwNXASo\"\n",
    "    r = requests.get(url)\n",
    "    return r"
   ]
  },
  {
   "cell_type": "markdown",
   "id": "bcdb559f",
   "metadata": {},
   "source": [
    "### Test :"
   ]
  },
  {
   "cell_type": "code",
   "execution_count": 10,
   "id": "4e727227",
   "metadata": {},
   "outputs": [
    {
     "name": "stdout",
     "output_type": "stream",
     "text": [
      "<Response [200]>\n"
     ]
    }
   ],
   "source": [
    "#Si output == <Response [200]> il y a connection avec l'API et donc fonctionne\n",
    "print(extract_rates())"
   ]
  },
  {
   "cell_type": "markdown",
   "id": "1131c5e3",
   "metadata": {},
   "source": [
    "## Partie 2 : Transform"
   ]
  },
  {
   "cell_type": "code",
   "execution_count": 2,
   "id": "15bd6825",
   "metadata": {},
   "outputs": [],
   "source": [
    "def transform_rates(extract):\n",
    "    #On transforme les datas en Json\n",
    "    json = extract.json()\n",
    "    #'Rates' est un dico et on récupère donc les clés et les valeurs\n",
    "    dico_cles = json['rates'].keys()\n",
    "    liste_cles = list(dico_cles)\n",
    "    dico_valeurs = json['rates'].values()\n",
    "    liste_valeurs = list(dico_valeurs)\n",
    "    #Création du DF avec les clés et valeurs de 'Rates'\n",
    "    df = pd.DataFrame(liste_valeurs,liste_cles)\n",
    "    #On nomme la colones des valeurs\n",
    "    df.columns = ['Rates']\n",
    "    return df"
   ]
  },
  {
   "cell_type": "markdown",
   "id": "ab656a9d",
   "metadata": {},
   "source": [
    "### Test :"
   ]
  },
  {
   "cell_type": "code",
   "execution_count": 11,
   "id": "20a951bb",
   "metadata": {},
   "outputs": [
    {
     "name": "stdout",
     "output_type": "stream",
     "text": [
      "           Rates\n",
      "AED     3.831498\n",
      "AFN    91.652775\n",
      "ALL   119.157461\n",
      "AMD   423.758343\n",
      "ANG     1.882841\n",
      "..           ...\n",
      "YER   261.049749\n",
      "ZAR    17.030186\n",
      "ZMK  9389.649736\n",
      "ZMW    17.421577\n",
      "ZWL   335.895528\n",
      "\n",
      "[168 rows x 1 columns]\n"
     ]
    }
   ],
   "source": [
    "print(transform_rates(extract_rates()))"
   ]
  },
  {
   "cell_type": "code",
   "execution_count": 12,
   "id": "17632715",
   "metadata": {},
   "outputs": [
    {
     "data": {
      "text/html": [
       "<div>\n",
       "<style scoped>\n",
       "    .dataframe tbody tr th:only-of-type {\n",
       "        vertical-align: middle;\n",
       "    }\n",
       "\n",
       "    .dataframe tbody tr th {\n",
       "        vertical-align: top;\n",
       "    }\n",
       "\n",
       "    .dataframe thead th {\n",
       "        text-align: right;\n",
       "    }\n",
       "</style>\n",
       "<table border=\"1\" class=\"dataframe\">\n",
       "  <thead>\n",
       "    <tr style=\"text-align: right;\">\n",
       "      <th></th>\n",
       "      <th>Rates</th>\n",
       "    </tr>\n",
       "  </thead>\n",
       "  <tbody>\n",
       "    <tr>\n",
       "      <th>AED</th>\n",
       "      <td>3.831299</td>\n",
       "    </tr>\n",
       "    <tr>\n",
       "      <th>AFN</th>\n",
       "      <td>91.648003</td>\n",
       "    </tr>\n",
       "    <tr>\n",
       "      <th>ALL</th>\n",
       "      <td>119.151256</td>\n",
       "    </tr>\n",
       "    <tr>\n",
       "      <th>AMD</th>\n",
       "      <td>423.736279</td>\n",
       "    </tr>\n",
       "    <tr>\n",
       "      <th>ANG</th>\n",
       "      <td>1.882743</td>\n",
       "    </tr>\n",
       "  </tbody>\n",
       "</table>\n",
       "</div>"
      ],
      "text/plain": [
       "          Rates\n",
       "AED    3.831299\n",
       "AFN   91.648003\n",
       "ALL  119.151256\n",
       "AMD  423.736279\n",
       "ANG    1.882743"
      ]
     },
     "execution_count": 12,
     "metadata": {},
     "output_type": "execute_result"
    }
   ],
   "source": [
    "df = transform_rates(extract_rates())\n",
    "df.head()"
   ]
  },
  {
   "cell_type": "markdown",
   "id": "cb8f71de",
   "metadata": {},
   "source": [
    "## SQLAlchemy"
   ]
  },
  {
   "cell_type": "code",
   "execution_count": 14,
   "id": "344dc30d",
   "metadata": {},
   "outputs": [
    {
     "data": {
      "text/plain": [
       "168"
      ]
     },
     "execution_count": 14,
     "metadata": {},
     "output_type": "execute_result"
    }
   ],
   "source": [
    "#Creation de la base SQlite avec les données de l'API\n",
    "engine = create_engine('sqlite://',  echo = False) \n",
    "df.to_sql('Rates',  con = engine) \n",
    "\n",
    "#Output 168 est pour indiquer le nombre de rows de la DB"
   ]
  },
  {
   "cell_type": "markdown",
   "id": "777b2401",
   "metadata": {},
   "source": [
    "### Test"
   ]
  },
  {
   "cell_type": "code",
   "execution_count": 15,
   "id": "f4ac5f3a",
   "metadata": {},
   "outputs": [
    {
     "name": "stdout",
     "output_type": "stream",
     "text": [
      "[('AED', 3.831299), ('AFN', 91.648003), ('ALL', 119.151256), ('AMD', 423.736279), ('ANG', 1.882743), ('AOA', 447.001508), ('ARS', 130.870775), ('AUD', 1.521398), ('AWG', 1.874974), ('AZN', 1.769807), ('BAM', 1.955279), ('BBD', 2.109355), ('BDT', 97.657526), ('BGN', 1.95811), ('BHD', 0.393263), ('BIF', 2150.406306), ('BMD', 1.043101), ('BND', 1.457252), ('BOB', 7.182333), ('BRL', 5.560357), ('BSD', 1.04466), ('BTC', 5.4598622e-05), ('BTN', 82.466276), ('BWP', 13.009883), ('BYN', 3.52757), ('BYR', 20444.776108), ('BZD', 2.105856), ('CAD', 1.342283), ('CDF', 2088.811199), ('CHF', 1.000198), ('CLF', 0.035254), ('CLP', 972.775228), ('CNY', 6.984502), ('COP', 4386.291111), ('CRC', 716.492982), ('CUC', 1.043101), ('CUP', 27.642172), ('CVE', 110.230214), ('CZK', 24.741311), ('DJF', 185.983091), ('DKK', 7.438034), ('DOP', 57.226472), ('DZD', 152.822654), ('EGP', 19.621145), ('ERN', 15.646513), ('ETB', 54.487377), ('EUR', 1.0), ('FJD', 2.297639), ('FKP', 0.856489), ('GBP', 0.861081), ('GEL', 3.066988), ('GGP', 0.856489), ('GHS', 8.430739), ('GIP', 0.856489), ('GMD', 56.420985), ('GNF', 9075.531456), ('GTQ', 8.099044), ('GYD', 218.571024), ('HKD', 8.18456), ('HNL', 25.679788), ('HRK', 7.53046), ('HTG', 120.084075), ('HUF', 401.353401), ('IDR', 15615.219303), ('ILS', 3.659526), ('IMP', 0.856489), ('INR', 82.404443), ('IQD', 1524.807279), ('IRR', 44175.319509), ('ISK', 139.29576), ('JEP', 0.856489), ('JMD', 157.268585), ('JOD', 0.739575), ('JPY', 141.271292), ('KES', 122.961083), ('KGS', 82.924116), ('KHR', 4251.815562), ('KMF', 484.650676), ('KPW', 938.790577), ('KRW', 1353.778268), ('KWD', 0.320075), ('KYD', 0.870567), ('KZT', 485.119233), ('LAK', 15688.773788), ('LBP', 1579.593946), ('LKR', 376.092311), ('LRD', 159.073863), ('LSL', 16.522528), ('LTL', 3.080005), ('LVL', 0.630961), ('LYD', 5.047607), ('MAD', 10.506484), ('MDL', 20.005991), ('MGA', 4259.642829), ('MKD', 61.600285), ('MMK', 1934.271989), ('MNT', 3258.738342), ('MOP', 8.444059), ('MRO', 372.386814), ('MUR', 47.825917), ('MVR', 16.011383), ('MWK', 1072.286632), ('MXN', 21.152187), ('MYR', 4.603215), ('MZN', 66.580896), ('NAD', 16.522713), ('NGN', 433.168468), ('NIO', 37.461051), ('NOK', 10.324878), ('NPR', 131.940671), ('NZD', 1.673151), ('OMR', 0.401086), ('PAB', 1.04467), ('PEN', 3.999691), ('PGK', 3.681032), ('PHP', 57.426347), ('PKR', 213.772838), ('PLN', 4.692128), ('PYG', 7149.943645), ('QAR', 3.797875), ('RON', 4.945022), ('RSD', 117.400891), ('RUB', 57.605224), ('RWF', 1068.526945), ('SAR', 3.914496), ('SBD', 8.51167), ('SCR', 14.225284), ('SDG', 476.17855), ('SEK', 10.757619), ('SGD', 1.456581), ('SHP', 1.436765), ('SLL', 13737.637828), ('SOS', 609.69196), ('SRD', 23.306029), ('STD', 21590.081), ('SVC', 9.141553), ('SYP', 2620.822494), ('SZL', 17.09904), ('THB', 37.217657), ('TJS', 10.264261), ('TMT', 3.661284), ('TND', 3.195539), ('TOP', 2.445003), ('TRY', 17.536585), ('TTD', 7.096894), ('TWD', 31.041113), ('TZS', 2432.510885), ('UAH', 30.868719), ('UGX', 3912.465318), ('USD', 1.043101), ('UYU', 41.245239), ('UZS', 11335.59744), ('VEF', 223046480652.9764), ('VND', 24335.542173), ('VUV', 121.219615), ('WST', 2.758712), ('XAF', 655.728065), ('XAG', 0.052564), ('XAU', 0.000577), ('XCD', 2.819032), ('XDR', 0.786733), ('XOF', 655.750061), ('XPF', 118.027116), ('YER', 261.03573), ('ZAR', 17.028944), ('ZMK', 9389.157914), ('ZMW', 17.420669), ('ZWL', 335.878039)]\n"
     ]
    }
   ],
   "source": [
    "print(engine.execute(\"SELECT * FROM Rates\").fetchall()) "
   ]
  }
 ],
 "metadata": {
  "kernelspec": {
   "display_name": "Python 3 (ipykernel)",
   "language": "python",
   "name": "python3"
  },
  "language_info": {
   "codemirror_mode": {
    "name": "ipython",
    "version": 3
   },
   "file_extension": ".py",
   "mimetype": "text/x-python",
   "name": "python",
   "nbconvert_exporter": "python",
   "pygments_lexer": "ipython3",
   "version": "3.9.12"
  }
 },
 "nbformat": 4,
 "nbformat_minor": 5
}
