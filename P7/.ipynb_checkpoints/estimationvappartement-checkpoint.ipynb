{
 "cells": [
  {
   "cell_type": "markdown",
   "id": "7ddfae4c",
   "metadata": {},
   "source": [
    "## Imports"
   ]
  },
  {
   "cell_type": "code",
   "execution_count": 53,
   "id": "1d470548",
   "metadata": {},
   "outputs": [],
   "source": [
    "import pandas as pd\n",
    "import requests\n",
    "import os\n",
    "import datetime\n",
    "import gzip\n",
    "import shutil\n",
    "from pprint import pprint\n",
    "import numpy as np\n",
    "from tqdm import tqdm, tqdm_pandas\n",
    "#sql alchemy\n",
    "import sqlalchemy\n",
    "from sqlalchemy import create_engine\n",
    "from sqlalchemy.orm import Session\n",
    "from sqlalchemy.orm import declarative_base\n",
    "from sqlalchemy.orm import column_property\n",
    "from sqlalchemy import Column, Integer, Float, String\n",
    "from sqlalchemy import insert, select"
   ]
  },
  {
   "cell_type": "code",
   "execution_count": 54,
   "id": "957eca91",
   "metadata": {},
   "outputs": [],
   "source": [
    "import pandas as pd\n",
    "import numpy as np\n",
    "import seaborn as sns\n",
    "import matplotlib.pyplot as plt\n",
    "import statsmodels.api as sm\n",
    "import statsmodels.formula.api as smf\n",
    "import scipy.stats as stats\n",
    "from scipy.stats import t, shapiro\n",
    "#from statsmodels.stats.outliers_influence import variance_inflation_factor\n",
    "import statsmodels"
   ]
  },
  {
   "cell_type": "markdown",
   "id": "9a879bd0",
   "metadata": {},
   "source": [
    "# GESTION DES DOSSIERS"
   ]
  },
  {
   "cell_type": "markdown",
   "id": "433addfc",
   "metadata": {},
   "source": [
    "## Creation du dossier raw contenant les données brutes"
   ]
  },
  {
   "cell_type": "code",
   "execution_count": 55,
   "id": "35ad6b0a",
   "metadata": {},
   "outputs": [],
   "source": [
    "#Création du dossier raw pour les donnée brutes\n",
    "path44= (r\"C:\\Users\\maell\\immo\")\n",
    "os.makedirs(path44, exist_ok=True)\n",
    "\n",
    "path49= (r\"C:\\Users\\maell\\immo\")\n",
    "os.makedirs(path49, exist_ok=True)\n",
    "\n",
    "path53= (r\"C:\\Users\\maell\\immo\")\n",
    "os.makedirs(path53, exist_ok=True)\n",
    "\n",
    "path72= (r\"C:\\Users\\maell\\immo\")\n",
    "os.makedirs(path72, exist_ok=True)\n",
    "\n",
    "path85= (r\"C:\\Users\\maell\\immo\")\n",
    "os.makedirs(path85, exist_ok=True)"
   ]
  },
  {
   "cell_type": "markdown",
   "id": "1c8e9cfa",
   "metadata": {},
   "source": [
    "# DOWNLOAD STEPS"
   ]
  },
  {
   "cell_type": "markdown",
   "id": "79ec8da1",
   "metadata": {},
   "source": [
    "## Téléchargement du fichier compressé (gz)"
   ]
  },
  {
   "cell_type": "code",
   "execution_count": 56,
   "id": "3426a647",
   "metadata": {},
   "outputs": [
    {
     "name": "stdout",
     "output_type": "stream",
     "text": [
      "Téléchargement en cours.\n",
      "Téléchargement terminé.\n",
      "Décompression du fichier.\n",
      "Décompression terminée.\n"
     ]
    }
   ],
   "source": [
    "##### Déclaration de l'url pour 44\n",
    "url44=\"https://files.data.gouv.fr/geo-dvf/latest/csv/2021/departements/\"\n",
    "\n",
    "while True:\n",
    "    url_test44 = requests.get(url44+\"/44.csv.gz\", stream=True)\n",
    "    if url_test44.status_code==200:  #test reponse du serveur\n",
    "        print(\"Téléchargement en cours.\")\n",
    "        with requests.get(url44+\"/44.csv.gz\", stream=True) as r:\n",
    "            with open(path44+\"/44.csv.gz\", \"wb\") as f:\n",
    "                shutil.copyfileobj(r.raw, f) #Enregistrement du fichier (méthode + rapide)\n",
    "        print(\"Téléchargement terminé.\")\n",
    "        break\n",
    "#Décompression du fichier et gestion d'erreur\n",
    "while True:\n",
    "    try:\n",
    "        print(\"Décompression du fichier.\")\n",
    "        with gzip.open(path44+\"/44.csv.gz\", 'rb') as f_in:\n",
    "            with open(path44+\"/44.csv\", 'wb') as f_out:\n",
    "                shutil.copyfileobj(f_in, f_out)\n",
    "        print(\"Décompression terminée.\")\n",
    "        break\n",
    "    except:\n",
    "        print(\"Erreur lors de la décompression.\")\n",
    "        break\n",
    "        \n"
   ]
  },
  {
   "cell_type": "code",
   "execution_count": 57,
   "id": "b2033200",
   "metadata": {},
   "outputs": [
    {
     "name": "stdout",
     "output_type": "stream",
     "text": [
      "Téléchargement en cours.\n",
      "Téléchargement terminé.\n",
      "Décompression du fichier.\n",
      "Décompression terminée.\n"
     ]
    }
   ],
   "source": [
    "##### Déclaration de l'url pour 44\n",
    "url49=\"https://files.data.gouv.fr/geo-dvf/latest/csv/2021/departements/\"\n",
    "\n",
    "while True:\n",
    "    url_test49 = requests.get(url49+\"/44.csv.gz\", stream=True)\n",
    "    if url_test49.status_code==200:  #test reponse du serveur\n",
    "        print(\"Téléchargement en cours.\")\n",
    "        with requests.get(url49+\"/49.csv.gz\", stream=True) as r:\n",
    "            with open(path49+\"/49.csv.gz\", \"wb\") as f:\n",
    "                shutil.copyfileobj(r.raw, f) #Enregistrement du fichier (méthode + rapide)\n",
    "        print(\"Téléchargement terminé.\")\n",
    "        break\n",
    "#Décompression du fichier et gestion d'erreur\n",
    "while True:\n",
    "    try:\n",
    "        print(\"Décompression du fichier.\")\n",
    "        with gzip.open(path49+\"/49.csv.gz\", 'rb') as f_in:\n",
    "            with open(path49+\"/49.csv\", 'wb') as f_out:\n",
    "                shutil.copyfileobj(f_in, f_out)\n",
    "        print(\"Décompression terminée.\")\n",
    "        break\n",
    "    except:\n",
    "        print(\"Erreur lors de la décompression.\")\n",
    "        break\n",
    "        "
   ]
  },
  {
   "cell_type": "code",
   "execution_count": 58,
   "id": "14f418e9",
   "metadata": {},
   "outputs": [
    {
     "name": "stdout",
     "output_type": "stream",
     "text": [
      "Téléchargement en cours.\n",
      "Téléchargement terminé.\n",
      "Décompression du fichier.\n",
      "Décompression terminée.\n"
     ]
    }
   ],
   "source": [
    "##### Déclaration de l'url pour 2021\n",
    "url53=\"https://files.data.gouv.fr/geo-dvf/latest/csv/2021/departements/\"\n",
    "\n",
    "while True:\n",
    "    url_test53 = requests.get(url53+\"/53.csv.gz\", stream=True)\n",
    "    if url_test53.status_code==200:  #test reponse du serveur\n",
    "        print(\"Téléchargement en cours.\")\n",
    "        with requests.get(url53+\"/53.csv.gz\", stream=True) as r:\n",
    "            with open(path53+\"/53.csv.gz\", \"wb\") as f:\n",
    "                shutil.copyfileobj(r.raw, f) #Enregistrement du fichier (méthode + rapide)\n",
    "        print(\"Téléchargement terminé.\")\n",
    "        break\n",
    "#Décompression du fichier et gestion d'erreur\n",
    "while True:\n",
    "    try:\n",
    "        print(\"Décompression du fichier.\")\n",
    "        with gzip.open(path53+\"/53.csv.gz\", 'rb') as f_in:\n",
    "            with open(path53+\"/53.csv\", 'wb') as f_out:\n",
    "                shutil.copyfileobj(f_in, f_out)\n",
    "        print(\"Décompression terminée.\")\n",
    "        break\n",
    "    except:\n",
    "        print(\"Erreur lors de la décompression.\")\n",
    "        break"
   ]
  },
  {
   "cell_type": "code",
   "execution_count": 59,
   "id": "c10f9482",
   "metadata": {},
   "outputs": [
    {
     "name": "stdout",
     "output_type": "stream",
     "text": [
      "Téléchargement en cours.\n",
      "Téléchargement terminé.\n",
      "Décompression du fichier.\n",
      "Décompression terminée.\n"
     ]
    }
   ],
   "source": [
    "##### Déclaration de l'url pour 2021\n",
    "url72=\"https://files.data.gouv.fr/geo-dvf/latest/csv/2021/departements/\"\n",
    "\n",
    "while True:\n",
    "    url_test72 = requests.get(url72+\"/72.csv.gz\", stream=True)\n",
    "    if url_test72.status_code==200:  #test reponse du serveur\n",
    "        print(\"Téléchargement en cours.\")\n",
    "        with requests.get(url72+\"/72.csv.gz\", stream=True) as r:\n",
    "            with open(path72+\"/72.csv.gz\", \"wb\") as f:\n",
    "                shutil.copyfileobj(r.raw, f) #Enregistrement du fichier (méthode + rapide)\n",
    "        print(\"Téléchargement terminé.\")\n",
    "        break\n",
    "#Décompression du fichier et gestion d'erreur\n",
    "while True:\n",
    "    try:\n",
    "        print(\"Décompression du fichier.\")\n",
    "        with gzip.open(path72+\"/72.csv.gz\", 'rb') as f_in:\n",
    "            with open(path72+\"/72.csv\", 'wb') as f_out:\n",
    "                shutil.copyfileobj(f_in, f_out)\n",
    "        print(\"Décompression terminée.\")\n",
    "        break\n",
    "    except:\n",
    "        print(\"Erreur lors de la décompression.\")\n",
    "        break\n",
    "        \n"
   ]
  },
  {
   "cell_type": "code",
   "execution_count": 60,
   "id": "7acefff9",
   "metadata": {},
   "outputs": [
    {
     "name": "stdout",
     "output_type": "stream",
     "text": [
      "Téléchargement en cours.\n",
      "Téléchargement terminé.\n",
      "Décompression du fichier.\n",
      "Décompression terminée.\n"
     ]
    }
   ],
   "source": [
    "##### Déclaration de l'url pour 2021\n",
    "url85=\"https://files.data.gouv.fr/geo-dvf/latest/csv/2021/departements/\"\n",
    "\n",
    "while True:\n",
    "    url_test85 = requests.get(url85+\"/85.csv.gz\", stream=True)\n",
    "    if url_test85.status_code==200:  #test reponse du serveur\n",
    "        print(\"Téléchargement en cours.\")\n",
    "        with requests.get(url85+\"/85.csv.gz\", stream=True) as r:\n",
    "            with open(path85+\"/85.csv.gz\", \"wb\") as f:\n",
    "                shutil.copyfileobj(r.raw, f) #Enregistrement du fichier (méthode + rapide)\n",
    "        print(\"Téléchargement terminé.\")\n",
    "        break\n",
    "#Décompression du fichier et gestion d'erreur\n",
    "while True:\n",
    "    try:\n",
    "        print(\"Décompression du fichier.\")\n",
    "        with gzip.open(path85+\"/85.csv.gz\", 'rb') as f_in:\n",
    "            with open(path85+\"/85.csv\", 'wb') as f_out:\n",
    "                shutil.copyfileobj(f_in, f_out)\n",
    "        print(\"Décompression terminée.\")\n",
    "        break\n",
    "    except:\n",
    "        print(\"Erreur lors de la décompression.\")\n",
    "        break"
   ]
  },
  {
   "cell_type": "code",
   "execution_count": 61,
   "id": "be136dfd",
   "metadata": {},
   "outputs": [
    {
     "name": "stderr",
     "output_type": "stream",
     "text": [
      "/tmp/ipykernel_8457/361759949.py:2: DtypeWarning: Columns (17) have mixed types. Specify dtype option on import or set low_memory=False.\n",
      "  df44=pd.read_csv(path44+\"/44.csv\")\n",
      "/tmp/ipykernel_8457/361759949.py:14: DtypeWarning: Columns (18,20) have mixed types. Specify dtype option on import or set low_memory=False.\n",
      "  df85=pd.read_csv(path85+\"/85.csv\")\n"
     ]
    }
   ],
   "source": [
    "#Création du df\n",
    "df44=pd.read_csv(path44+\"/44.csv\")\n",
    "\n",
    "#Création du df\n",
    "df49=pd.read_csv(path49+\"/49.csv\")\n",
    "\n",
    "#Création du df\n",
    "df53=pd.read_csv(path53+\"/53.csv\")\n",
    "\n",
    "#Création du df\n",
    "df72=pd.read_csv(path72+\"/72.csv\")\n",
    "\n",
    "#Création du df\n",
    "df85=pd.read_csv(path85+\"/85.csv\")"
   ]
  },
  {
   "cell_type": "code",
   "execution_count": 62,
   "id": "5e7e1d29",
   "metadata": {},
   "outputs": [],
   "source": [
    "df_demo=pd.read_csv(\"info_communes.csv\")"
   ]
  },
  {
   "cell_type": "code",
   "execution_count": 63,
   "id": "17eaceb1",
   "metadata": {},
   "outputs": [
    {
     "data": {
      "text/html": [
       "<div>\n",
       "<style scoped>\n",
       "    .dataframe tbody tr th:only-of-type {\n",
       "        vertical-align: middle;\n",
       "    }\n",
       "\n",
       "    .dataframe tbody tr th {\n",
       "        vertical-align: top;\n",
       "    }\n",
       "\n",
       "    .dataframe thead th {\n",
       "        text-align: right;\n",
       "    }\n",
       "</style>\n",
       "<table border=\"1\" class=\"dataframe\">\n",
       "  <thead>\n",
       "    <tr style=\"text-align: right;\">\n",
       "      <th></th>\n",
       "      <th>CODGEO</th>\n",
       "      <th>P19_POP</th>\n",
       "      <th>SUPERF</th>\n",
       "      <th>P19_LOG</th>\n",
       "      <th>P19_RP</th>\n",
       "      <th>dens_pop_km2</th>\n",
       "      <th>rap_log_rp</th>\n",
       "      <th>libelle</th>\n",
       "      <th>latitude</th>\n",
       "      <th>longitude</th>\n",
       "    </tr>\n",
       "  </thead>\n",
       "  <tbody>\n",
       "    <tr>\n",
       "      <th>0</th>\n",
       "      <td>01001</td>\n",
       "      <td>779.0</td>\n",
       "      <td>15.95</td>\n",
       "      <td>359.574602</td>\n",
       "      <td>316.115807</td>\n",
       "      <td>48.84</td>\n",
       "      <td>0.88</td>\n",
       "      <td>L'Abergement-Clémenciat</td>\n",
       "      <td>46.153426</td>\n",
       "      <td>4.926114</td>\n",
       "    </tr>\n",
       "    <tr>\n",
       "      <th>1</th>\n",
       "      <td>01002</td>\n",
       "      <td>256.0</td>\n",
       "      <td>9.15</td>\n",
       "      <td>175.251661</td>\n",
       "      <td>105.603177</td>\n",
       "      <td>27.98</td>\n",
       "      <td>0.60</td>\n",
       "      <td>L'Abergement-de-Varey</td>\n",
       "      <td>46.009188</td>\n",
       "      <td>5.428017</td>\n",
       "    </tr>\n",
       "    <tr>\n",
       "      <th>2</th>\n",
       "      <td>01004</td>\n",
       "      <td>14134.0</td>\n",
       "      <td>24.60</td>\n",
       "      <td>7452.835563</td>\n",
       "      <td>6606.346575</td>\n",
       "      <td>574.55</td>\n",
       "      <td>0.89</td>\n",
       "      <td>Ambérieu-en-Bugey</td>\n",
       "      <td>45.960848</td>\n",
       "      <td>5.372926</td>\n",
       "    </tr>\n",
       "    <tr>\n",
       "      <th>3</th>\n",
       "      <td>01005</td>\n",
       "      <td>1751.0</td>\n",
       "      <td>15.92</td>\n",
       "      <td>802.963326</td>\n",
       "      <td>723.196409</td>\n",
       "      <td>109.99</td>\n",
       "      <td>0.90</td>\n",
       "      <td>Ambérieux-en-Dombes</td>\n",
       "      <td>45.996180</td>\n",
       "      <td>4.912273</td>\n",
       "    </tr>\n",
       "    <tr>\n",
       "      <th>4</th>\n",
       "      <td>01006</td>\n",
       "      <td>112.0</td>\n",
       "      <td>5.88</td>\n",
       "      <td>75.546970</td>\n",
       "      <td>53.963636</td>\n",
       "      <td>19.05</td>\n",
       "      <td>0.71</td>\n",
       "      <td>Ambléon</td>\n",
       "      <td>45.749499</td>\n",
       "      <td>5.594320</td>\n",
       "    </tr>\n",
       "  </tbody>\n",
       "</table>\n",
       "</div>"
      ],
      "text/plain": [
       "  CODGEO  P19_POP  SUPERF      P19_LOG       P19_RP  dens_pop_km2  rap_log_rp  \\\n",
       "0  01001    779.0   15.95   359.574602   316.115807         48.84        0.88   \n",
       "1  01002    256.0    9.15   175.251661   105.603177         27.98        0.60   \n",
       "2  01004  14134.0   24.60  7452.835563  6606.346575        574.55        0.89   \n",
       "3  01005   1751.0   15.92   802.963326   723.196409        109.99        0.90   \n",
       "4  01006    112.0    5.88    75.546970    53.963636         19.05        0.71   \n",
       "\n",
       "                   libelle   latitude  longitude  \n",
       "0  L'Abergement-Clémenciat  46.153426   4.926114  \n",
       "1    L'Abergement-de-Varey  46.009188   5.428017  \n",
       "2        Ambérieu-en-Bugey  45.960848   5.372926  \n",
       "3      Ambérieux-en-Dombes  45.996180   4.912273  \n",
       "4                  Ambléon  45.749499   5.594320  "
      ]
     },
     "execution_count": 63,
     "metadata": {},
     "output_type": "execute_result"
    }
   ],
   "source": [
    "df_demo.head()"
   ]
  },
  {
   "cell_type": "code",
   "execution_count": 64,
   "id": "b80fe35b",
   "metadata": {},
   "outputs": [],
   "source": [
    "df_demo = df_demo[['CODGEO', 'dens_pop_km2', 'libelle']]"
   ]
  },
  {
   "cell_type": "code",
   "execution_count": 65,
   "id": "f6d7bb09",
   "metadata": {},
   "outputs": [],
   "source": [
    "df_demo = df_demo.rename(columns = {'CODGEO': 'code_commune'})"
   ]
  },
  {
   "cell_type": "code",
   "execution_count": 66,
   "id": "b52c2d22",
   "metadata": {},
   "outputs": [
    {
     "name": "stdout",
     "output_type": "stream",
     "text": [
      "<class 'pandas.core.frame.DataFrame'>\n",
      "RangeIndex: 35585 entries, 0 to 35584\n",
      "Data columns (total 3 columns):\n",
      " #   Column        Non-Null Count  Dtype  \n",
      "---  ------        --------------  -----  \n",
      " 0   code_commune  35585 non-null  object \n",
      " 1   dens_pop_km2  35568 non-null  float64\n",
      " 2   libelle       35585 non-null  object \n",
      "dtypes: float64(1), object(2)\n",
      "memory usage: 834.1+ KB\n"
     ]
    }
   ],
   "source": [
    "df_demo.info()"
   ]
  },
  {
   "cell_type": "code",
   "execution_count": 67,
   "id": "293fe717",
   "metadata": {},
   "outputs": [],
   "source": [
    "df_demo = df_demo[df_demo.code_commune.apply(lambda x: x.isnumeric())]"
   ]
  },
  {
   "cell_type": "code",
   "execution_count": 68,
   "id": "e6631011",
   "metadata": {},
   "outputs": [],
   "source": [
    "df_demo['code_commune'] = df_demo['code_commune'].fillna(0).astype(np.int64)"
   ]
  },
  {
   "cell_type": "code",
   "execution_count": 69,
   "id": "ec9d1202",
   "metadata": {},
   "outputs": [],
   "source": [
    "df = pd.concat([df44, df49, df53, df72, df85])"
   ]
  },
  {
   "cell_type": "code",
   "execution_count": 70,
   "id": "d23c4b7b",
   "metadata": {},
   "outputs": [
    {
     "data": {
      "text/html": [
       "<div>\n",
       "<style scoped>\n",
       "    .dataframe tbody tr th:only-of-type {\n",
       "        vertical-align: middle;\n",
       "    }\n",
       "\n",
       "    .dataframe tbody tr th {\n",
       "        vertical-align: top;\n",
       "    }\n",
       "\n",
       "    .dataframe thead th {\n",
       "        text-align: right;\n",
       "    }\n",
       "</style>\n",
       "<table border=\"1\" class=\"dataframe\">\n",
       "  <thead>\n",
       "    <tr style=\"text-align: right;\">\n",
       "      <th></th>\n",
       "      <th>id_mutation</th>\n",
       "      <th>date_mutation</th>\n",
       "      <th>numero_disposition</th>\n",
       "      <th>nature_mutation</th>\n",
       "      <th>valeur_fonciere</th>\n",
       "      <th>adresse_numero</th>\n",
       "      <th>adresse_suffixe</th>\n",
       "      <th>adresse_nom_voie</th>\n",
       "      <th>adresse_code_voie</th>\n",
       "      <th>code_postal</th>\n",
       "      <th>...</th>\n",
       "      <th>type_local</th>\n",
       "      <th>surface_reelle_bati</th>\n",
       "      <th>nombre_pieces_principales</th>\n",
       "      <th>code_nature_culture</th>\n",
       "      <th>nature_culture</th>\n",
       "      <th>code_nature_culture_speciale</th>\n",
       "      <th>nature_culture_speciale</th>\n",
       "      <th>surface_terrain</th>\n",
       "      <th>longitude</th>\n",
       "      <th>latitude</th>\n",
       "    </tr>\n",
       "  </thead>\n",
       "  <tbody>\n",
       "    <tr>\n",
       "      <th>0</th>\n",
       "      <td>2021-513940</td>\n",
       "      <td>2021-01-05</td>\n",
       "      <td>1</td>\n",
       "      <td>Vente</td>\n",
       "      <td>130000.0</td>\n",
       "      <td>10.0</td>\n",
       "      <td>NaN</td>\n",
       "      <td>RUE RICHER</td>\n",
       "      <td>7308</td>\n",
       "      <td>44100.0</td>\n",
       "      <td>...</td>\n",
       "      <td>Dépendance</td>\n",
       "      <td>NaN</td>\n",
       "      <td>0.0</td>\n",
       "      <td>NaN</td>\n",
       "      <td>NaN</td>\n",
       "      <td>NaN</td>\n",
       "      <td>NaN</td>\n",
       "      <td>NaN</td>\n",
       "      <td>-1.576574</td>\n",
       "      <td>47.212731</td>\n",
       "    </tr>\n",
       "    <tr>\n",
       "      <th>1</th>\n",
       "      <td>2021-513940</td>\n",
       "      <td>2021-01-05</td>\n",
       "      <td>1</td>\n",
       "      <td>Vente</td>\n",
       "      <td>130000.0</td>\n",
       "      <td>10.0</td>\n",
       "      <td>NaN</td>\n",
       "      <td>RUE RICHER</td>\n",
       "      <td>7308</td>\n",
       "      <td>44100.0</td>\n",
       "      <td>...</td>\n",
       "      <td>Appartement</td>\n",
       "      <td>45.0</td>\n",
       "      <td>1.0</td>\n",
       "      <td>NaN</td>\n",
       "      <td>NaN</td>\n",
       "      <td>NaN</td>\n",
       "      <td>NaN</td>\n",
       "      <td>NaN</td>\n",
       "      <td>-1.576574</td>\n",
       "      <td>47.212731</td>\n",
       "    </tr>\n",
       "    <tr>\n",
       "      <th>2</th>\n",
       "      <td>2021-513941</td>\n",
       "      <td>2021-01-04</td>\n",
       "      <td>1</td>\n",
       "      <td>Vente</td>\n",
       "      <td>700000.0</td>\n",
       "      <td>3.0</td>\n",
       "      <td>NaN</td>\n",
       "      <td>RUE DES MARTYRS</td>\n",
       "      <td>5444</td>\n",
       "      <td>44100.0</td>\n",
       "      <td>...</td>\n",
       "      <td>Maison</td>\n",
       "      <td>134.0</td>\n",
       "      <td>5.0</td>\n",
       "      <td>S</td>\n",
       "      <td>sols</td>\n",
       "      <td>NaN</td>\n",
       "      <td>NaN</td>\n",
       "      <td>195.0</td>\n",
       "      <td>-1.575733</td>\n",
       "      <td>47.216779</td>\n",
       "    </tr>\n",
       "    <tr>\n",
       "      <th>3</th>\n",
       "      <td>2021-513942</td>\n",
       "      <td>2021-01-05</td>\n",
       "      <td>1</td>\n",
       "      <td>Vente</td>\n",
       "      <td>354240.0</td>\n",
       "      <td>48.0</td>\n",
       "      <td>B</td>\n",
       "      <td>RUE DE COULMIERS</td>\n",
       "      <td>2244</td>\n",
       "      <td>44000.0</td>\n",
       "      <td>...</td>\n",
       "      <td>Appartement</td>\n",
       "      <td>74.0</td>\n",
       "      <td>3.0</td>\n",
       "      <td>NaN</td>\n",
       "      <td>NaN</td>\n",
       "      <td>NaN</td>\n",
       "      <td>NaN</td>\n",
       "      <td>NaN</td>\n",
       "      <td>-1.536938</td>\n",
       "      <td>47.222669</td>\n",
       "    </tr>\n",
       "    <tr>\n",
       "      <th>4</th>\n",
       "      <td>2021-513943</td>\n",
       "      <td>2021-01-11</td>\n",
       "      <td>1</td>\n",
       "      <td>Vente</td>\n",
       "      <td>30000.0</td>\n",
       "      <td>21.0</td>\n",
       "      <td>NaN</td>\n",
       "      <td>PAS PETITES SOEURS DES PAUVRES</td>\n",
       "      <td>6505</td>\n",
       "      <td>44000.0</td>\n",
       "      <td>...</td>\n",
       "      <td>Dépendance</td>\n",
       "      <td>NaN</td>\n",
       "      <td>0.0</td>\n",
       "      <td>NaN</td>\n",
       "      <td>NaN</td>\n",
       "      <td>NaN</td>\n",
       "      <td>NaN</td>\n",
       "      <td>NaN</td>\n",
       "      <td>-1.561705</td>\n",
       "      <td>47.225324</td>\n",
       "    </tr>\n",
       "  </tbody>\n",
       "</table>\n",
       "<p>5 rows × 40 columns</p>\n",
       "</div>"
      ],
      "text/plain": [
       "   id_mutation date_mutation  numero_disposition nature_mutation  \\\n",
       "0  2021-513940    2021-01-05                   1           Vente   \n",
       "1  2021-513940    2021-01-05                   1           Vente   \n",
       "2  2021-513941    2021-01-04                   1           Vente   \n",
       "3  2021-513942    2021-01-05                   1           Vente   \n",
       "4  2021-513943    2021-01-11                   1           Vente   \n",
       "\n",
       "   valeur_fonciere  adresse_numero adresse_suffixe  \\\n",
       "0         130000.0            10.0             NaN   \n",
       "1         130000.0            10.0             NaN   \n",
       "2         700000.0             3.0             NaN   \n",
       "3         354240.0            48.0               B   \n",
       "4          30000.0            21.0             NaN   \n",
       "\n",
       "                 adresse_nom_voie adresse_code_voie  code_postal  ...  \\\n",
       "0                      RUE RICHER              7308      44100.0  ...   \n",
       "1                      RUE RICHER              7308      44100.0  ...   \n",
       "2                 RUE DES MARTYRS              5444      44100.0  ...   \n",
       "3                RUE DE COULMIERS              2244      44000.0  ...   \n",
       "4  PAS PETITES SOEURS DES PAUVRES              6505      44000.0  ...   \n",
       "\n",
       "    type_local surface_reelle_bati  nombre_pieces_principales  \\\n",
       "0   Dépendance                 NaN                        0.0   \n",
       "1  Appartement                45.0                        1.0   \n",
       "2       Maison               134.0                        5.0   \n",
       "3  Appartement                74.0                        3.0   \n",
       "4   Dépendance                 NaN                        0.0   \n",
       "\n",
       "   code_nature_culture  nature_culture code_nature_culture_speciale  \\\n",
       "0                  NaN             NaN                          NaN   \n",
       "1                  NaN             NaN                          NaN   \n",
       "2                    S            sols                          NaN   \n",
       "3                  NaN             NaN                          NaN   \n",
       "4                  NaN             NaN                          NaN   \n",
       "\n",
       "   nature_culture_speciale surface_terrain longitude   latitude  \n",
       "0                      NaN             NaN -1.576574  47.212731  \n",
       "1                      NaN             NaN -1.576574  47.212731  \n",
       "2                      NaN           195.0 -1.575733  47.216779  \n",
       "3                      NaN             NaN -1.536938  47.222669  \n",
       "4                      NaN             NaN -1.561705  47.225324  \n",
       "\n",
       "[5 rows x 40 columns]"
      ]
     },
     "execution_count": 70,
     "metadata": {},
     "output_type": "execute_result"
    }
   ],
   "source": [
    "df.head()"
   ]
  },
  {
   "cell_type": "markdown",
   "id": "4023b156",
   "metadata": {},
   "source": [
    "# TRANSFORM STEP"
   ]
  },
  {
   "cell_type": "markdown",
   "id": "4fee15d1",
   "metadata": {},
   "source": [
    "## Général"
   ]
  },
  {
   "cell_type": "code",
   "execution_count": 71,
   "id": "4a98c7e4",
   "metadata": {},
   "outputs": [
    {
     "name": "stdout",
     "output_type": "stream",
     "text": [
      "<class 'pandas.core.frame.DataFrame'>\n",
      "Int64Index: 291664 entries, 0 to 64285\n",
      "Data columns (total 40 columns):\n",
      " #   Column                        Non-Null Count   Dtype  \n",
      "---  ------                        --------------   -----  \n",
      " 0   id_mutation                   291664 non-null  object \n",
      " 1   date_mutation                 291664 non-null  object \n",
      " 2   numero_disposition            291664 non-null  int64  \n",
      " 3   nature_mutation               291664 non-null  object \n",
      " 4   valeur_fonciere               288123 non-null  float64\n",
      " 5   adresse_numero                177083 non-null  float64\n",
      " 6   adresse_suffixe               10595 non-null   object \n",
      " 7   adresse_nom_voie              289706 non-null  object \n",
      " 8   adresse_code_voie             289731 non-null  object \n",
      " 9   code_postal                   289709 non-null  float64\n",
      " 10  code_commune                  291664 non-null  int64  \n",
      " 11  nom_commune                   291664 non-null  object \n",
      " 12  code_departement              291664 non-null  int64  \n",
      " 13  ancien_code_commune           0 non-null       float64\n",
      " 14  ancien_nom_commune            0 non-null       float64\n",
      " 15  id_parcelle                   291664 non-null  object \n",
      " 16  ancien_id_parcelle            0 non-null       float64\n",
      " 17  numero_volume                 636 non-null     object \n",
      " 18  lot1_numero                   59466 non-null   object \n",
      " 19  lot1_surface_carrez           17368 non-null   float64\n",
      " 20  lot2_numero                   15019 non-null   object \n",
      " 21  lot2_surface_carrez           4915 non-null    float64\n",
      " 22  lot3_numero                   2712 non-null    float64\n",
      " 23  lot3_surface_carrez           513 non-null     float64\n",
      " 24  lot4_numero                   847 non-null     float64\n",
      " 25  lot4_surface_carrez           110 non-null     float64\n",
      " 26  lot5_numero                   365 non-null     float64\n",
      " 27  lot5_surface_carrez           40 non-null      float64\n",
      " 28  nombre_lots                   291664 non-null  int64  \n",
      " 29  code_type_local               153574 non-null  float64\n",
      " 30  type_local                    153574 non-null  object \n",
      " 31  surface_reelle_bati           97212 non-null   float64\n",
      " 32  nombre_pieces_principales     153327 non-null  float64\n",
      " 33  code_nature_culture           230344 non-null  object \n",
      " 34  nature_culture                230344 non-null  object \n",
      " 35  code_nature_culture_speciale  10457 non-null   object \n",
      " 36  nature_culture_speciale       10457 non-null   object \n",
      " 37  surface_terrain               230337 non-null  float64\n",
      " 38  longitude                     287322 non-null  float64\n",
      " 39  latitude                      287322 non-null  float64\n",
      "dtypes: float64(20), int64(4), object(16)\n",
      "memory usage: 91.2+ MB\n"
     ]
    }
   ],
   "source": [
    "df.info()"
   ]
  },
  {
   "cell_type": "markdown",
   "id": "a03c1a66",
   "metadata": {},
   "source": [
    "créer le df utile"
   ]
  },
  {
   "cell_type": "code",
   "execution_count": 72,
   "id": "8feb85f7",
   "metadata": {},
   "outputs": [],
   "source": [
    "df=df[['id_mutation', 'valeur_fonciere', 'code_postal', 'code_commune', 'code_departement', 'lot1_surface_carrez', 'lot2_surface_carrez','lot3_surface_carrez', 'lot4_surface_carrez', 'lot5_surface_carrez', 'type_local', 'nombre_pieces_principales', 'surface_terrain' , 'surface_reelle_bati'\n",
    "          ,'longitude', 'latitude' ]]"
   ]
  },
  {
   "cell_type": "code",
   "execution_count": 73,
   "id": "c97640db",
   "metadata": {},
   "outputs": [
    {
     "data": {
      "text/html": [
       "<div>\n",
       "<style scoped>\n",
       "    .dataframe tbody tr th:only-of-type {\n",
       "        vertical-align: middle;\n",
       "    }\n",
       "\n",
       "    .dataframe tbody tr th {\n",
       "        vertical-align: top;\n",
       "    }\n",
       "\n",
       "    .dataframe thead th {\n",
       "        text-align: right;\n",
       "    }\n",
       "</style>\n",
       "<table border=\"1\" class=\"dataframe\">\n",
       "  <thead>\n",
       "    <tr style=\"text-align: right;\">\n",
       "      <th></th>\n",
       "      <th>id_mutation</th>\n",
       "      <th>valeur_fonciere</th>\n",
       "      <th>code_postal</th>\n",
       "      <th>code_commune</th>\n",
       "      <th>code_departement</th>\n",
       "      <th>lot1_surface_carrez</th>\n",
       "      <th>lot2_surface_carrez</th>\n",
       "      <th>lot3_surface_carrez</th>\n",
       "      <th>lot4_surface_carrez</th>\n",
       "      <th>lot5_surface_carrez</th>\n",
       "      <th>type_local</th>\n",
       "      <th>nombre_pieces_principales</th>\n",
       "      <th>surface_terrain</th>\n",
       "      <th>surface_reelle_bati</th>\n",
       "      <th>longitude</th>\n",
       "      <th>latitude</th>\n",
       "    </tr>\n",
       "  </thead>\n",
       "  <tbody>\n",
       "    <tr>\n",
       "      <th>0</th>\n",
       "      <td>2021-513940</td>\n",
       "      <td>130000.0</td>\n",
       "      <td>44100.0</td>\n",
       "      <td>44109</td>\n",
       "      <td>44</td>\n",
       "      <td>NaN</td>\n",
       "      <td>NaN</td>\n",
       "      <td>NaN</td>\n",
       "      <td>NaN</td>\n",
       "      <td>NaN</td>\n",
       "      <td>Dépendance</td>\n",
       "      <td>0.0</td>\n",
       "      <td>NaN</td>\n",
       "      <td>NaN</td>\n",
       "      <td>-1.576574</td>\n",
       "      <td>47.212731</td>\n",
       "    </tr>\n",
       "    <tr>\n",
       "      <th>1</th>\n",
       "      <td>2021-513940</td>\n",
       "      <td>130000.0</td>\n",
       "      <td>44100.0</td>\n",
       "      <td>44109</td>\n",
       "      <td>44</td>\n",
       "      <td>NaN</td>\n",
       "      <td>29.19</td>\n",
       "      <td>NaN</td>\n",
       "      <td>NaN</td>\n",
       "      <td>NaN</td>\n",
       "      <td>Appartement</td>\n",
       "      <td>1.0</td>\n",
       "      <td>NaN</td>\n",
       "      <td>45.0</td>\n",
       "      <td>-1.576574</td>\n",
       "      <td>47.212731</td>\n",
       "    </tr>\n",
       "    <tr>\n",
       "      <th>2</th>\n",
       "      <td>2021-513941</td>\n",
       "      <td>700000.0</td>\n",
       "      <td>44100.0</td>\n",
       "      <td>44109</td>\n",
       "      <td>44</td>\n",
       "      <td>NaN</td>\n",
       "      <td>NaN</td>\n",
       "      <td>NaN</td>\n",
       "      <td>NaN</td>\n",
       "      <td>NaN</td>\n",
       "      <td>Maison</td>\n",
       "      <td>5.0</td>\n",
       "      <td>195.0</td>\n",
       "      <td>134.0</td>\n",
       "      <td>-1.575733</td>\n",
       "      <td>47.216779</td>\n",
       "    </tr>\n",
       "    <tr>\n",
       "      <th>3</th>\n",
       "      <td>2021-513942</td>\n",
       "      <td>354240.0</td>\n",
       "      <td>44000.0</td>\n",
       "      <td>44109</td>\n",
       "      <td>44</td>\n",
       "      <td>74.38</td>\n",
       "      <td>NaN</td>\n",
       "      <td>NaN</td>\n",
       "      <td>NaN</td>\n",
       "      <td>NaN</td>\n",
       "      <td>Appartement</td>\n",
       "      <td>3.0</td>\n",
       "      <td>NaN</td>\n",
       "      <td>74.0</td>\n",
       "      <td>-1.536938</td>\n",
       "      <td>47.222669</td>\n",
       "    </tr>\n",
       "    <tr>\n",
       "      <th>4</th>\n",
       "      <td>2021-513943</td>\n",
       "      <td>30000.0</td>\n",
       "      <td>44000.0</td>\n",
       "      <td>44109</td>\n",
       "      <td>44</td>\n",
       "      <td>NaN</td>\n",
       "      <td>NaN</td>\n",
       "      <td>NaN</td>\n",
       "      <td>NaN</td>\n",
       "      <td>NaN</td>\n",
       "      <td>Dépendance</td>\n",
       "      <td>0.0</td>\n",
       "      <td>NaN</td>\n",
       "      <td>NaN</td>\n",
       "      <td>-1.561705</td>\n",
       "      <td>47.225324</td>\n",
       "    </tr>\n",
       "  </tbody>\n",
       "</table>\n",
       "</div>"
      ],
      "text/plain": [
       "   id_mutation  valeur_fonciere  code_postal  code_commune  code_departement  \\\n",
       "0  2021-513940         130000.0      44100.0         44109                44   \n",
       "1  2021-513940         130000.0      44100.0         44109                44   \n",
       "2  2021-513941         700000.0      44100.0         44109                44   \n",
       "3  2021-513942         354240.0      44000.0         44109                44   \n",
       "4  2021-513943          30000.0      44000.0         44109                44   \n",
       "\n",
       "   lot1_surface_carrez  lot2_surface_carrez  lot3_surface_carrez  \\\n",
       "0                  NaN                  NaN                  NaN   \n",
       "1                  NaN                29.19                  NaN   \n",
       "2                  NaN                  NaN                  NaN   \n",
       "3                74.38                  NaN                  NaN   \n",
       "4                  NaN                  NaN                  NaN   \n",
       "\n",
       "   lot4_surface_carrez  lot5_surface_carrez   type_local  \\\n",
       "0                  NaN                  NaN   Dépendance   \n",
       "1                  NaN                  NaN  Appartement   \n",
       "2                  NaN                  NaN       Maison   \n",
       "3                  NaN                  NaN  Appartement   \n",
       "4                  NaN                  NaN   Dépendance   \n",
       "\n",
       "   nombre_pieces_principales  surface_terrain  surface_reelle_bati  longitude  \\\n",
       "0                        0.0              NaN                  NaN  -1.576574   \n",
       "1                        1.0              NaN                 45.0  -1.576574   \n",
       "2                        5.0            195.0                134.0  -1.575733   \n",
       "3                        3.0              NaN                 74.0  -1.536938   \n",
       "4                        0.0              NaN                  NaN  -1.561705   \n",
       "\n",
       "    latitude  \n",
       "0  47.212731  \n",
       "1  47.212731  \n",
       "2  47.216779  \n",
       "3  47.222669  \n",
       "4  47.225324  "
      ]
     },
     "execution_count": 73,
     "metadata": {},
     "output_type": "execute_result"
    }
   ],
   "source": [
    "df.head()"
   ]
  },
  {
   "cell_type": "markdown",
   "id": "a8a696c4",
   "metadata": {},
   "source": [
    "Supprimer les dépendances"
   ]
  },
  {
   "cell_type": "code",
   "execution_count": 74,
   "id": "a3aee1db",
   "metadata": {},
   "outputs": [],
   "source": [
    "df.drop(df.loc[df['type_local']=='Dépendance'].index, inplace=True)"
   ]
  },
  {
   "cell_type": "markdown",
   "id": "abbfb0f1",
   "metadata": {},
   "source": [
    "Additionner les \"surface carrez\""
   ]
  },
  {
   "cell_type": "code",
   "execution_count": 75,
   "id": "5c53080a",
   "metadata": {},
   "outputs": [],
   "source": [
    "df[\"SomCarrez\"]=df.fillna(0)['lot1_surface_carrez'] + df.fillna(0)['lot2_surface_carrez'] + df.fillna(0)['lot3_surface_carrez'] + df.fillna(0)['lot4_surface_carrez'] + df.fillna(0)['lot5_surface_carrez']"
   ]
  },
  {
   "cell_type": "markdown",
   "id": "5ac5f196",
   "metadata": {},
   "source": [
    "Faire des filtres appartement en zone urbaine"
   ]
  },
  {
   "cell_type": "code",
   "execution_count": 76,
   "id": "24eae6fe",
   "metadata": {},
   "outputs": [],
   "source": [
    "code = [44036, 44200, 44300, 44321, 44325, 49000, 44000, 44100, 44380, 49100, 72000, 72100, 44600]\n",
    "filtered_df = df[df.code_postal.isin(code)]"
   ]
  },
  {
   "cell_type": "code",
   "execution_count": 77,
   "id": "7df07380",
   "metadata": {},
   "outputs": [
    {
     "ename": "NameError",
     "evalue": "name 'filter_appart' is not defined",
     "output_type": "error",
     "traceback": [
      "\u001b[0;31m---------------------------------------------------------------------------\u001b[0m",
      "\u001b[0;31mNameError\u001b[0m                                 Traceback (most recent call last)",
      "Input \u001b[0;32mIn [77]\u001b[0m, in \u001b[0;36m<cell line: 3>\u001b[0;34m()\u001b[0m\n\u001b[1;32m      1\u001b[0m filtered_df\u001b[38;5;241m=\u001b[39m(df[\u001b[38;5;124m'\u001b[39m\u001b[38;5;124mtype_local\u001b[39m\u001b[38;5;124m'\u001b[39m]\u001b[38;5;241m==\u001b[39m\u001b[38;5;124m'\u001b[39m\u001b[38;5;124mAppartement\u001b[39m\u001b[38;5;124m'\u001b[39m) \u001b[38;5;241m&\u001b[39m ((df[\u001b[38;5;124m'\u001b[39m\u001b[38;5;124mSomCarrez\u001b[39m\u001b[38;5;124m'\u001b[39m]\u001b[38;5;241m>\u001b[39m \u001b[38;5;241m0\u001b[39m)\u001b[38;5;241m&\u001b[39m(df[\u001b[38;5;124m'\u001b[39m\u001b[38;5;124mSomCarrez\u001b[39m\u001b[38;5;124m'\u001b[39m]\u001b[38;5;241m<\u001b[39m\u001b[38;5;241m300\u001b[39m) ) \u001b[38;5;241m&\u001b[39m (df[\u001b[38;5;124m'\u001b[39m\u001b[38;5;124mvaleur_fonciere\u001b[39m\u001b[38;5;124m'\u001b[39m]\u001b[38;5;241m<\u001b[39m\u001b[38;5;241m2500000\u001b[39m) \n\u001b[0;32m----> 3\u001b[0m df_appart\u001b[38;5;241m=\u001b[39mdf[\u001b[43mfilter_appart\u001b[49m]\u001b[38;5;241m.\u001b[39mcopy()\n\u001b[1;32m      4\u001b[0m df_appart\n",
      "\u001b[0;31mNameError\u001b[0m: name 'filter_appart' is not defined"
     ]
    }
   ],
   "source": [
    "filtered_df=(df['type_local']=='Appartement') & ((df['SomCarrez']> 0)&(df['SomCarrez']<300) ) & (df['valeur_fonciere']<2500000) \n",
    "\n",
    "df_appart=df[filter_appart].copy()\n",
    "df_appart\n"
   ]
  },
  {
   "cell_type": "code",
   "execution_count": null,
   "id": "75da47d6",
   "metadata": {
    "scrolled": true
   },
   "outputs": [],
   "source": [
    "#convertir la surface en surface au carré \n",
    "\n",
    "df_maison['SomCarrez']=df_maison['SomCarrez']**2\n",
    "df_appart['SomCarrez']=df_appart['SomCarrez']**2\n",
    "df_maison['surface_reelle_bati']=df_maison['surface_reelle_bati']**2"
   ]
  },
  {
   "cell_type": "code",
   "execution_count": null,
   "id": "4a812b3e",
   "metadata": {},
   "outputs": [],
   "source": [
    "df_maison=df_maison[['id_mutation', 'valeur_fonciere', 'code_postal', 'code_commune', 'code_departement','type_local', 'nombre_pieces_principales', 'surface_terrain' , 'surface_reelle_bati'\n",
    "          ,'longitude', 'latitude', 'SomCarrez' ]]\n",
    "\n",
    "df_appart=df_appart[['id_mutation', 'valeur_fonciere', 'code_postal', 'code_commune', 'code_departement','type_local', 'nombre_pieces_principales', 'surface_terrain' , 'surface_reelle_bati'\n",
    "          ,'longitude', 'latitude', 'SomCarrez' ]]"
   ]
  },
  {
   "cell_type": "code",
   "execution_count": null,
   "id": "01007ab1",
   "metadata": {},
   "outputs": [],
   "source": [
    "#normalisation des données numériques maison :\n",
    "colonnes = ['valeur_fonciere', 'SomCarrez', 'surface_terrain' , 'surface_reelle_bati']\n",
    "copie = df_maison.copy()\n",
    "df_scaled_maison = copie[colonnes]\n",
    "\n",
    "\n",
    "for column in df_scaled_maison.columns :\n",
    "    df_scaled_maison[column] = df_scaled_maison[column]  / df_scaled_maison[column].abs().max()\n",
    "\n",
    "display(df_scaled_maison)"
   ]
  },
  {
   "cell_type": "code",
   "execution_count": null,
   "id": "ba916840",
   "metadata": {},
   "outputs": [],
   "source": [
    "#normalisation des données numériques appartement :\n",
    "colonnes = ['valeur_fonciere', 'SomCarrez', 'surface_terrain' , 'surface_reelle_bati']\n",
    "copie_a = df_appart.copy()\n",
    "df_scaled_appart = copie_a[colonnes]\n",
    "\n",
    "\n",
    "for column in df_scaled_appart.columns :\n",
    "    df_scaled_appart[column] = df_scaled_appart[column]  / df_scaled_appart[column].abs().max()\n",
    "\n",
    "display(df_scaled_appart)"
   ]
  },
  {
   "cell_type": "code",
   "execution_count": null,
   "id": "5dcc0570",
   "metadata": {},
   "outputs": [],
   "source": [
    "df_scaled_maison['code_departement'] = df_maison['code_departement']\n",
    "df_scaled_maison['nombre_pieces_principales'] = df_maison['nombre_pieces_principales']\n"
   ]
  },
  {
   "cell_type": "code",
   "execution_count": null,
   "id": "fa42d29f",
   "metadata": {},
   "outputs": [],
   "source": [
    "df_mais = df_scaled_maison.merge(df_demo, how='outer', left_index=True, right_index=True)"
   ]
  },
  {
   "cell_type": "code",
   "execution_count": null,
   "id": "2ff70a1d",
   "metadata": {},
   "outputs": [],
   "source": [
    "#normaliser densité de population\n",
    "#normalisation des données numériques maison :\n",
    "colonnes = ['dens_pop_km2']\n",
    "copie = df_mais.copy()\n",
    "df_scaled2 = copie[colonnes]\n",
    "\n",
    "\n",
    "for column in df_scaled2.columns :\n",
    "    df_scaled2[column] = df_scaled2[column]  / df_scaled2[column].abs().max()\n",
    "\n",
    "display(df_scaled2)"
   ]
  },
  {
   "cell_type": "code",
   "execution_count": null,
   "id": "cc25ca8f",
   "metadata": {},
   "outputs": [],
   "source": [
    "df_scaled2['valeur_fonciere'] = df_mais['valeur_fonciere']\n",
    "df_scaled2['SomCarrez'] = df_mais['valeur_fonciere']\n",
    "df_scaled2['surface_terrain'] = df_mais['surface_terrain']\n",
    "df_scaled2['surface_reelle_bati']= df_mais['surface_reelle_bati']\n",
    "df_scaled2['nombre_pieces_principales']= df_mais['nombre_pieces_principales']\n",
    "df_scaled2['code_departement']= df_mais['code_departement']\n",
    "df_scaled2['code_commune']= df_mais['code_commune']\n",
    "df_scaled2['libelle']= df_mais['libelle']"
   ]
  },
  {
   "cell_type": "code",
   "execution_count": null,
   "id": "dc391426",
   "metadata": {},
   "outputs": [],
   "source": [
    "df_scaled2.head(100)"
   ]
  },
  {
   "cell_type": "markdown",
   "id": "8402ecbd",
   "metadata": {},
   "source": [
    "# Pour les maisons, diviser la bd en 2\n",
    "\n"
   ]
  },
  {
   "cell_type": "code",
   "execution_count": null,
   "id": "9ca09226",
   "metadata": {},
   "outputs": [],
   "source": [
    "import statsmodels.api as sm\n",
    "import statsmodels.formula.api as smf\n",
    "import scipy.stats as stats\n",
    "from scipy.stats import t, shapiro\n",
    "#from statsmodels.stats.outliers_influence import variance_inflation_factor\n",
    "import statsmodels\n",
    "\n",
    "#Pour les maisons\n",
    "\n",
    "import pandas\n",
    "import sklearn\n",
    "from sklearn.model_selection import train_test_split\n",
    "\n",
    "y = df_scaled2.valeur_fonciere\n",
    "X = df_scaled2[['valeur_fonciere', 'SomCarrez', 'surface_terrain',\n",
    "       'surface_reelle_bati', 'nombre_pieces_principales', 'code_departement',\n",
    "       'code_commune', 'dens_pop_km2', 'libelle' ]]\n",
    "X_train, X_test, y_train, y_test = train_test_split( X, y, test_size=0.33, random_state=42)"
   ]
  },
  {
   "cell_type": "code",
   "execution_count": null,
   "id": "759f8983",
   "metadata": {},
   "outputs": [],
   "source": [
    "reg_multi = smf.ols('valeur_fonciere~ nombre_pieces_principales+ dens_pop_km2 + SomCarrez + surface_reelle_bati' , data=df_scaled2).fit()\n",
    "print(reg_multi.summary())"
   ]
  },
  {
   "cell_type": "code",
   "execution_count": null,
   "id": "71808334",
   "metadata": {},
   "outputs": [],
   "source": [
    "a_prevoir = pd.DataFrame({'nombre_pieces_principales' : 10 , 'dens_pop_km2' : 1463.2 , 'SomCarrez' :283  , 'surface_reelle_bati' : 2873}, index=[0])\n",
    "prev = reg_multi.predict(a_prevoir)\n",
    "print(round(prev[0], 2))"
   ]
  },
  {
   "cell_type": "code",
   "execution_count": null,
   "id": "2340a514",
   "metadata": {},
   "outputs": [],
   "source": [
    "df.sort_values(by=['longitude', 'latitude'])"
   ]
  },
  {
   "cell_type": "code",
   "execution_count": null,
   "id": "8492a324",
   "metadata": {},
   "outputs": [],
   "source": [
    "maison=(df['type_local']=='Maison')\n",
    "df_maison=df[maison].copy()"
   ]
  },
  {
   "cell_type": "code",
   "execution_count": null,
   "id": "2fea85f5",
   "metadata": {},
   "outputs": [],
   "source": [
    "df_maison.sort_values(by=['longitude', 'latitude'])"
   ]
  },
  {
   "cell_type": "code",
   "execution_count": null,
   "id": "dd44532f",
   "metadata": {},
   "outputs": [],
   "source": [
    "from scipy.spatial import distance\n",
    "a = (-1.575733, 47.216779)\n",
    "b = (-1.634305, 47.219005)\n",
    "\n",
    "print(distance.euclidean(a, b))"
   ]
  },
  {
   "cell_type": "code",
   "execution_count": null,
   "id": "1234377e",
   "metadata": {},
   "outputs": [],
   "source": []
  }
 ],
 "metadata": {
  "kernelspec": {
   "display_name": "Python 3 (ipykernel)",
   "language": "python",
   "name": "python3"
  },
  "language_info": {
   "codemirror_mode": {
    "name": "ipython",
    "version": 3
   },
   "file_extension": ".py",
   "mimetype": "text/x-python",
   "name": "python",
   "nbconvert_exporter": "python",
   "pygments_lexer": "ipython3",
   "version": "3.9.12"
  }
 },
 "nbformat": 4,
 "nbformat_minor": 5
}
